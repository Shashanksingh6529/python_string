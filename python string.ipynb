{
 "cells": [
  {
   "cell_type": "markdown",
   "id": "056ae0ee-1b27-469c-a259-329febc52aa9",
   "metadata": {},
   "source": [
    "Q1  How can we store a s1ngle quote (‘) as a str1ng 1n a var1able?"
   ]
  },
  {
   "cell_type": "code",
   "execution_count": 1,
   "id": "9bc3a287-87be-41b8-8630-1e0a9126fa8e",
   "metadata": {},
   "outputs": [
    {
     "name": "stdout",
     "output_type": "stream",
     "text": [
      "‘\n",
      "‘\n"
     ]
    }
   ],
   "source": [
    "single_quote_string = '‘'  # Using single quotes\n",
    "print(single_quote_string)\n",
    "\n",
    "# Or\n",
    "\n",
    "single_quote_string = \"‘\"  # Using double quotes\n",
    "print(single_quote_string)"
   ]
  },
  {
   "cell_type": "markdown",
   "id": "4f7e0338-0f5c-41ca-bcf1-eff13a18cf97",
   "metadata": {},
   "source": [
    "Q2 Refer the below var1able:\n",
    "x = ‘a'\n",
    "Here, 1s x a character type or string type variable? Support your answer with an explanation."
   ]
  },
  {
   "cell_type": "code",
   "execution_count": 2,
   "id": "12ddc53f-06e6-456e-a2c7-9178fdc96d92",
   "metadata": {},
   "outputs": [
    {
     "data": {
      "text/plain": [
       "'Therefore, x is considered a string type variable in Python.'"
      ]
     },
     "execution_count": 2,
     "metadata": {},
     "output_type": "execute_result"
    }
   ],
   "source": [
    "\"\"\"Therefore, x is considered a string type variable in Python.\"\"\""
   ]
  },
  {
   "cell_type": "markdown",
   "id": "bf602b11-7d50-400b-a298-1fe91e724f93",
   "metadata": {},
   "source": [
    "Q3 Apply the following funct1ons on this variable: ‘Welcome to Python  to foundation course'\n",
    "find()\n",
    "count()\n",
    "len()\n",
    " Concatenation()\n",
    "Note: You can use your cho1ce of parameters.\n",
    " But make sure it is  correct."
   ]
  },
  {
   "cell_type": "code",
   "execution_count": 3,
   "id": "768b89eb-3746-4c53-886b-9832d5e0f77a",
   "metadata": {},
   "outputs": [
    {
     "name": "stdout",
     "output_type": "stream",
     "text": [
      "8\n",
      "2\n",
      "38\n",
      "Welcome to Python to foundation course - Advanced\n"
     ]
    }
   ],
   "source": [
    "string = 'Welcome to Python to foundation course'\n",
    "print(string.find('to'))  # Output: 8\n",
    "\n",
    "\n",
    "string = 'Welcome to Python to foundation course'\n",
    "print(string.count('to'))  # Output: 2\n",
    "\n",
    "\n",
    "string = 'Welcome to Python to foundation course'\n",
    "print(len(string))  # Output: 38\n",
    "\n",
    "\n",
    "string = 'Welcome to Python to foundation course'\n",
    "another_string = ' - Advanced'\n",
    "concatenated_string = string + another_string\n",
    "print(concatenated_string)"
   ]
  },
  {
   "cell_type": "markdown",
   "id": "068c0649-c449-4fff-b081-cf923912a64c",
   "metadata": {},
   "source": [
    "Q4Q For the var1able: wor = ‘PanaJ1@T//56(\n",
    "Calculate the follow1ng:\n",
    "(a) Total number of alphabets 1n lowercase\n",
    "(b) Total number of alphabets 1n uppercase\n",
    "(c) Total number of numer1cal 1n str1ng"
   ]
  },
  {
   "cell_type": "code",
   "execution_count": 4,
   "id": "74456617-2898-4dd3-ad55-ec2179b63233",
   "metadata": {},
   "outputs": [
    {
     "name": "stdout",
     "output_type": "stream",
     "text": [
      "(a) Total number of lowercase alphabets: 4\n",
      "(b) Total number of uppercase alphabets: 2\n",
      "(c) Total number of numerical characters: 5\n"
     ]
    }
   ],
   "source": [
    "word = 'PanaJi@12256'\n",
    "\n",
    "# Initialize counts\n",
    "lowercase_count = 0\n",
    "uppercase_count = 0\n",
    "numeric_count = 0\n",
    "\n",
    "# Iterate through each character in the string\n",
    "for char in word:\n",
    "    if char.islower():\n",
    "        lowercase_count += 1\n",
    "    elif char.isupper():\n",
    "        uppercase_count += 1\n",
    "    elif char.isnumeric():\n",
    "        numeric_count += 1\n",
    "\n",
    "# Display the counts\n",
    "print(\"(a) Total number of lowercase alphabets:\", lowercase_count)\n",
    "print(\"(b) Total number of uppercase alphabets:\", uppercase_count)\n",
    "print(\"(c) Total number of numerical characters:\", numeric_count)"
   ]
  },
  {
   "cell_type": "markdown",
   "id": "a4eb218b-940e-4546-bd9c-468ca373bf32",
   "metadata": {},
   "source": [
    "Q5 Write a code to store a numerical value inside a variable then convert it into string."
   ]
  },
  {
   "cell_type": "code",
   "execution_count": 5,
   "id": "ea978032-03f4-4246-9713-c748ea617595",
   "metadata": {},
   "outputs": [
    {
     "name": "stdout",
     "output_type": "stream",
     "text": [
      "Numerical value as string: 12345\n"
     ]
    }
   ],
   "source": [
    "# Store a numerical value in a variable\n",
    "numerical_value = 12345\n",
    "\n",
    "# Convert the numerical value to a string\n",
    "numerical_string = str(numerical_value)\n",
    "\n",
    "# Print the result\n",
    "print(\"Numerical value as string:\", numerical_string)"
   ]
  },
  {
   "cell_type": "code",
   "execution_count": null,
   "id": "a7fea9be-6922-4ae2-a43c-1487ef4799d6",
   "metadata": {},
   "outputs": [],
   "source": []
  }
 ],
 "metadata": {
  "kernelspec": {
   "display_name": "Python 3 (ipykernel)",
   "language": "python",
   "name": "python3"
  },
  "language_info": {
   "codemirror_mode": {
    "name": "ipython",
    "version": 3
   },
   "file_extension": ".py",
   "mimetype": "text/x-python",
   "name": "python",
   "nbconvert_exporter": "python",
   "pygments_lexer": "ipython3",
   "version": "3.10.8"
  }
 },
 "nbformat": 4,
 "nbformat_minor": 5
}
